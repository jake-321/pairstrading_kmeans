{
 "cells": [
  {
   "cell_type": "code",
   "execution_count": null,
   "id": "d0563b66-e80f-485a-a16f-fbc54d67664b",
   "metadata": {},
   "outputs": [],
   "source": [
    "import pandas as pd\n",
    "import numpy as np\n",
    "import yfinance as yf"
   ]
  },
  {
   "cell_type": "code",
   "execution_count": null,
   "id": "7bd585d9-6905-4a5d-84ed-bd53312ea29c",
   "metadata": {},
   "outputs": [],
   "source": [
    "class \n",
    "tickers = ('AMZN', 'NVDA', 'TGT', 'AAPL', \n",
    "           'WMT', 'GOOG', 'META', 'MSFT', \n",
    "           'NFLX', 'TSLA', 'BRK-B', 'JPM')\n",
    "\n",
    "start_date = '2023-01-01'\n",
    "end_date = '2024-11-30'\n",
    "interval = '1d'"
   ]
  },
  {
   "cell_type": "code",
   "execution_count": null,
   "id": "e06c646a-17af-4592-b63c-7a82968bbd32",
   "metadata": {},
   "outputs": [],
   "source": [
    "df = yf.download(tickers, start = start_date, end = end_date, interval = interval)\n",
    "\n",
    "adj_close_price = np.transpose(np.array(df['Adj Close']))\n",
    "\n",
    "amzn = np.array(df['Adj Close']['AMZN'])\n",
    "nvda = np.array(df['Adj Close']['NVDA'])\n",
    "tgt = np.array(df['Adj Close']['TGT'])\n",
    "AAPL = np.array(df['Adj Close']['AAPL'])\n",
    "wmt = np.array(df['Adj Close']['WMT'])\n",
    "goog = np.array(df['Adj Close']['GOOG'])\n",
    "meta = np.array(df['Adj Close']['META'])\n",
    "msft = np.array(df['Adj Close']['MSFT'])\n",
    "nflx = np.array(df['Adj Close']['NFLX'])\n",
    "tsla = np.array(df['Adj Close']['TSLA'])\n",
    "brk = np.array(df['Adj Close']['BRK-B'])\n",
    "jpm = np.array(df['Adj Close']['JPM'])"
   ]
  }
 ],
 "metadata": {
  "kernelspec": {
   "display_name": "Python 3 (ipykernel)",
   "language": "python",
   "name": "python3"
  },
  "language_info": {
   "codemirror_mode": {
    "name": "ipython",
    "version": 3
   },
   "file_extension": ".py",
   "mimetype": "text/x-python",
   "name": "python",
   "nbconvert_exporter": "python",
   "pygments_lexer": "ipython3",
   "version": "3.12.4"
  }
 },
 "nbformat": 4,
 "nbformat_minor": 5
}
